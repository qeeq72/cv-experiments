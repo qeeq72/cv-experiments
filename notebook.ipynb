{
 "cells": [
  {
   "cell_type": "code",
   "execution_count": null,
   "id": "790d2d6a",
   "metadata": {},
   "outputs": [],
   "source": [
    "import cv2\n",
    "import numpy as np\n",
    "import math\n",
    "from matplotlib import pyplot as plt\n",
    "%matplotlib inline"
   ]
  },
  {
   "cell_type": "code",
   "execution_count": null,
   "id": "04dc94fa",
   "metadata": {},
   "outputs": [],
   "source": [
    "path = \"photo/p5.jpg\""
   ]
  },
  {
   "cell_type": "code",
   "execution_count": null,
   "id": "6e7a3610",
   "metadata": {},
   "outputs": [],
   "source": [
    "img = cv2.imread(path)\n",
    "h, w, k = img.shape\n",
    "if h > w:\n",
    "    img = cv2.rotate(img, cv2.ROTATE_90_COUNTERCLOCKWISE)\n",
    "    h, w, k = img.shape\n",
    "\n",
    "fig, ax = plt.subplots(figsize=(18, 12))\n",
    "ax.imshow(img)"
   ]
  },
  {
   "cell_type": "code",
   "execution_count": null,
   "id": "3e3ed93d",
   "metadata": {},
   "outputs": [],
   "source": [
    "def detect_edges(img):\n",
    "    _img = cv2.cvtColor(img, cv2.COLOR_BGR2GRAY)\n",
    "    _, _img = cv2.threshold(_img, 191, 255, 0)\n",
    "    return cv2.Canny(_img, 100, 200)"
   ]
  },
  {
   "cell_type": "code",
   "execution_count": null,
   "id": "526540f7",
   "metadata": {},
   "outputs": [],
   "source": [
    "fig, ax = plt.subplots(figsize=(18, 12))\n",
    "ax.imshow(detect_edges(img))"
   ]
  },
  {
   "cell_type": "code",
   "execution_count": null,
   "id": "c8b14565",
   "metadata": {},
   "outputs": [],
   "source": [
    "def get_lines(img):\n",
    "    rho = 1  # distance resolution in pixels of the Hough grid\n",
    "    theta = np.pi / 180  # angular resolution in radians of the Hough grid\n",
    "    threshold = 80  # minimum number of votes (intersections in Hough grid cell)\n",
    "    min_line_length = 50  # minimum number of pixels making up a line\n",
    "    max_line_gap = 4  # maximum gap in pixels between connectable line segments\n",
    "    return cv2.HoughLinesP(\n",
    "                img,\n",
    "                rho,\n",
    "                theta,\n",
    "                threshold,\n",
    "                np.array([]),\n",
    "                min_line_length,\n",
    "                max_line_gap\n",
    "            )"
   ]
  },
  {
   "cell_type": "code",
   "execution_count": null,
   "id": "31e0eb10",
   "metadata": {},
   "outputs": [],
   "source": [
    "def get_max_length_line(img):\n",
    "    max_length = 0\n",
    "    rotation_angle = 0\n",
    "    pt1 = (0, 0)\n",
    "    pt2 = (0, 0)\n",
    "    \n",
    "    for line in get_lines(img):\n",
    "        x1, y1, x2, y2 = line[0]\n",
    "        length = ((x1 - x2) ** 2 + (y1 - y2) ** 2) ** 0.5\n",
    "        if length > max_length:\n",
    "            max_length = length\n",
    "            diff = 0\n",
    "            if y1 > y2:\n",
    "                diff = x1 - x2\n",
    "            else:\n",
    "                diff = x2 - x1\n",
    "            rotation_angle = math.acos(abs(diff) / length) * 180 / math.pi\n",
    "            if diff < 0:\n",
    "                rotation_angle = -rotation_angle\n",
    "            pt1 = (x1, y1)\n",
    "            pt2 = (x2, y2)\n",
    "    \n",
    "    return pt1, pt2, max_length, rotation_angle\n",
    "    "
   ]
  },
  {
   "cell_type": "code",
   "execution_count": null,
   "id": "75453694",
   "metadata": {},
   "outputs": [],
   "source": [
    "def draw_line(img, pt1, pt2):\n",
    "    _img = img.copy()\n",
    "    cv2.line(_img, pt1, pt2, (255, 0, 0), 2)\n",
    "    fig, ax = plt.subplots(figsize=(18, 12))\n",
    "    ax.imshow(_img)"
   ]
  },
  {
   "cell_type": "code",
   "execution_count": null,
   "id": "dedea2c5",
   "metadata": {},
   "outputs": [],
   "source": [
    "pt1, pt2, max_length, rotation_angle = get_max_length_line(detect_edges(img))\n",
    "draw_line(img, pt1, pt2)\n",
    "\n",
    "print(f\"Max length line: {max_length}\")\n",
    "print(f\"Rotation angle: {rotation_angle}\")"
   ]
  },
  {
   "cell_type": "code",
   "execution_count": null,
   "id": "33db4b70",
   "metadata": {},
   "outputs": [],
   "source": [
    "M = cv2.getRotationMatrix2D((w // 2, h // 2), rotation_angle, 1)\n",
    "img = cv2.warpAffine(img, M, (w, h))\n",
    "\n",
    "fig, ax = plt.subplots(figsize=(18, 12))\n",
    "ax.imshow(img)"
   ]
  }
 ],
 "metadata": {
  "kernelspec": {
   "display_name": "Python 3 (ipykernel)",
   "language": "python",
   "name": "python3"
  },
  "language_info": {
   "codemirror_mode": {
    "name": "ipython",
    "version": 3
   },
   "file_extension": ".py",
   "mimetype": "text/x-python",
   "name": "python",
   "nbconvert_exporter": "python",
   "pygments_lexer": "ipython3",
   "version": "3.9.7"
  }
 },
 "nbformat": 4,
 "nbformat_minor": 5
}
